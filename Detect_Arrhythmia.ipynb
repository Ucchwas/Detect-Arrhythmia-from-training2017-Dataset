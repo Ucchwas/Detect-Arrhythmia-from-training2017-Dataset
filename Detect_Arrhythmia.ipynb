{
  "nbformat": 4,
  "nbformat_minor": 0,
  "metadata": {
    "colab": {
      "provenance": [],
      "authorship_tag": "ABX9TyMpF/TdyToyxeXSxYG7O6zx",
      "include_colab_link": true
    },
    "kernelspec": {
      "name": "python3",
      "display_name": "Python 3"
    },
    "language_info": {
      "name": "python"
    }
  },
  "cells": [
    {
      "cell_type": "markdown",
      "metadata": {
        "id": "view-in-github",
        "colab_type": "text"
      },
      "source": [
        "<a href=\"https://colab.research.google.com/github/Ucchwas/Detect-Arrhythmia-from-training2017-Dataset/blob/main/Detect_Arrhythmia.ipynb\" target=\"_parent\"><img src=\"https://colab.research.google.com/assets/colab-badge.svg\" alt=\"Open In Colab\"/></a>"
      ]
    },
    {
      "cell_type": "code",
      "execution_count": 1,
      "metadata": {
        "id": "0j_0u3u2-Jm9"
      },
      "outputs": [],
      "source": [
        "import urllib.request\n",
        "import os\n",
        "import zipfile\n",
        "\n",
        "# Download the dataset\n",
        "url = \"https://physionet.org/files/challenge-2017/1.0.0/training2017.zip\"\n",
        "filename = \"training2017.zip\"\n",
        "if not os.path.exists(filename):\n",
        "    urllib.request.urlretrieve(url, filename)\n",
        "\n",
        "# Extract the dataset\n",
        "with zipfile.ZipFile(filename, \"r\") as zip_ref:\n",
        "    zip_ref.extractall(\".\")\n"
      ]
    },
    {
      "cell_type": "code",
      "source": [
        "import os\n",
        "import numpy as np\n",
        "import pandas as pd\n",
        "from scipy.io import loadmat\n",
        "from sklearn.preprocessing import StandardScaler, LabelEncoder\n",
        "from sklearn.model_selection import train_test_split\n",
        "from tensorflow.keras.models import Sequential\n",
        "from tensorflow.keras.layers import Dense, Dropout\n",
        "from tensorflow.keras.callbacks import EarlyStopping"
      ],
      "metadata": {
        "id": "H0RzBEQyCngt"
      },
      "execution_count": 21,
      "outputs": []
    },
    {
      "cell_type": "code",
      "source": [
        "import os\n",
        "\n",
        "print(os.path.isfile(\"training2017/REFERENCE.csv\"))"
      ],
      "metadata": {
        "colab": {
          "base_uri": "https://localhost:8080/"
        },
        "id": "VKR8i1o8Fu4r",
        "outputId": "b87f2694-1136-4ce8-dbf4-ec8ce0d58734"
      },
      "execution_count": 22,
      "outputs": [
        {
          "output_type": "stream",
          "name": "stdout",
          "text": [
            "True\n"
          ]
        }
      ]
    },
    {
      "cell_type": "code",
      "source": [
        "# Define the signal length (in samples) to use\n",
        "signal_length = 3000\n",
        "\n",
        "# Load the training dataset\n",
        "train_data_path = \"training2017\"\n",
        "train_labels = pd.read_csv(os.path.join(train_data_path, \"REFERENCE.csv\"), header=None, names=[\"filename\", \"label\"])\n",
        "train_labels[\"filename\"] = train_labels[\"filename\"].apply(lambda x: os.path.splitext(x)[0])\n",
        "train_data = np.zeros((len(train_labels), signal_length))"
      ],
      "metadata": {
        "id": "TaT1dvTBJo-y"
      },
      "execution_count": 23,
      "outputs": []
    },
    {
      "cell_type": "code",
      "source": [
        "train_data"
      ],
      "metadata": {
        "colab": {
          "base_uri": "https://localhost:8080/"
        },
        "id": "R2NPk8-CJrn5",
        "outputId": "a838b7f6-fe6a-43a5-a6c7-4c99c6a71063"
      },
      "execution_count": 27,
      "outputs": [
        {
          "output_type": "execute_result",
          "data": {
            "text/plain": [
              "array([[0., 0., 0., ..., 0., 0., 0.],\n",
              "       [0., 0., 0., ..., 0., 0., 0.],\n",
              "       [0., 0., 0., ..., 0., 0., 0.],\n",
              "       ...,\n",
              "       [0., 0., 0., ..., 0., 0., 0.],\n",
              "       [0., 0., 0., ..., 0., 0., 0.],\n",
              "       [0., 0., 0., ..., 0., 0., 0.]])"
            ]
          },
          "metadata": {},
          "execution_count": 27
        }
      ]
    },
    {
      "cell_type": "code",
      "source": [
        "for i, row in train_labels.iterrows():\n",
        "    mat = loadmat(os.path.join(train_data_path, row[\"filename\"]))\n",
        "    signal = mat[\"val\"].reshape(-1)\n",
        "    # Adjust the signal length to match X_train\n",
        "    if len(signal) < signal_length:\n",
        "        signal = np.pad(signal, (0, signal_length - len(signal)), 'constant')\n",
        "    elif len(signal) > signal_length:\n",
        "        signal = signal[:signal_length]\n",
        "    signal = StandardScaler().fit_transform(signal.reshape(-1, 1)).reshape(-1)\n",
        "    train_data[i] = signal"
      ],
      "metadata": {
        "id": "lTWafvwRJy55"
      },
      "execution_count": 28,
      "outputs": []
    },
    {
      "cell_type": "code",
      "source": [
        "# Convert the labels to integers\n",
        "le = LabelEncoder()\n",
        "train_labels[\"label_num\"] = le.fit_transform(train_labels[\"label\"])"
      ],
      "metadata": {
        "id": "R737JBruJ19J"
      },
      "execution_count": 30,
      "outputs": []
    },
    {
      "cell_type": "code",
      "source": [
        "# Split the data into training and validation sets\n",
        "X_train, X_val, y_train, y_val = train_test_split(train_data, train_labels[\"label_num\"], test_size=0.2, random_state=42)"
      ],
      "metadata": {
        "id": "WpI9-kXzKBRR"
      },
      "execution_count": 32,
      "outputs": []
    },
    {
      "cell_type": "code",
      "source": [
        "# Define the model architecture\n",
        "model = Sequential([\n",
        "    Dense(256, activation=\"relu\", input_shape=(signal_length,)),\n",
        "    Dropout(0.5),\n",
        "    Dense(128, activation=\"relu\"),\n",
        "    Dropout(0.5),\n",
        "    Dense(64, activation=\"relu\"),\n",
        "    Dropout(0.5),\n",
        "    Dense(4, activation=\"softmax\")\n",
        "])"
      ],
      "metadata": {
        "id": "UH8ttMDJKEmB"
      },
      "execution_count": 33,
      "outputs": []
    },
    {
      "cell_type": "code",
      "source": [
        "# Compile the model\n",
        "model.compile(loss=\"sparse_categorical_crossentropy\", optimizer=\"adam\", metrics=[\"accuracy\"])"
      ],
      "metadata": {
        "id": "kvEqtx-RKGX5"
      },
      "execution_count": 34,
      "outputs": []
    },
    {
      "cell_type": "code",
      "source": [
        "# Train the model\n",
        "early_stop = EarlyStopping(patience=5, restore_best_weights=True)\n",
        "history = model.fit(X_train, y_train, validation_data=(X_val, y_val), epochs=50, callbacks=[early_stop])"
      ],
      "metadata": {
        "colab": {
          "base_uri": "https://localhost:8080/"
        },
        "id": "igZWnOtxKJv5",
        "outputId": "1953d243-182b-4863-b502-b7016c545904"
      },
      "execution_count": 35,
      "outputs": [
        {
          "output_type": "stream",
          "name": "stdout",
          "text": [
            "Epoch 1/50\n",
            "214/214 [==============================] - 5s 16ms/step - loss: 1.4366 - accuracy: 0.4733 - val_loss: 1.0586 - val_accuracy: 0.6120\n",
            "Epoch 2/50\n",
            "214/214 [==============================] - 4s 19ms/step - loss: 1.1191 - accuracy: 0.5447 - val_loss: 1.0541 - val_accuracy: 0.6149\n",
            "Epoch 3/50\n",
            "214/214 [==============================] - 4s 17ms/step - loss: 1.0689 - accuracy: 0.5699 - val_loss: 1.0502 - val_accuracy: 0.6149\n",
            "Epoch 4/50\n",
            "214/214 [==============================] - 4s 19ms/step - loss: 1.0546 - accuracy: 0.5797 - val_loss: 1.0312 - val_accuracy: 0.6149\n",
            "Epoch 5/50\n",
            "214/214 [==============================] - 4s 18ms/step - loss: 1.0452 - accuracy: 0.5812 - val_loss: 1.0081 - val_accuracy: 0.6149\n",
            "Epoch 6/50\n",
            "214/214 [==============================] - 3s 16ms/step - loss: 1.0374 - accuracy: 0.5849 - val_loss: 1.0009 - val_accuracy: 0.6149\n",
            "Epoch 7/50\n",
            "214/214 [==============================] - 3s 15ms/step - loss: 1.0228 - accuracy: 0.5862 - val_loss: 1.0128 - val_accuracy: 0.6149\n",
            "Epoch 8/50\n",
            "214/214 [==============================] - 3s 16ms/step - loss: 1.0186 - accuracy: 0.5844 - val_loss: 0.9902 - val_accuracy: 0.6149\n",
            "Epoch 9/50\n",
            "214/214 [==============================] - 4s 20ms/step - loss: 1.0131 - accuracy: 0.5859 - val_loss: 0.9935 - val_accuracy: 0.6149\n",
            "Epoch 10/50\n",
            "214/214 [==============================] - 3s 15ms/step - loss: 1.0094 - accuracy: 0.5852 - val_loss: 0.9847 - val_accuracy: 0.6149\n",
            "Epoch 11/50\n",
            "214/214 [==============================] - 3s 15ms/step - loss: 1.0035 - accuracy: 0.5855 - val_loss: 0.9806 - val_accuracy: 0.6149\n",
            "Epoch 12/50\n",
            "214/214 [==============================] - 3s 15ms/step - loss: 0.9919 - accuracy: 0.5863 - val_loss: 0.9818 - val_accuracy: 0.6149\n",
            "Epoch 13/50\n",
            "214/214 [==============================] - 4s 19ms/step - loss: 0.9922 - accuracy: 0.5855 - val_loss: 0.9805 - val_accuracy: 0.6149\n",
            "Epoch 14/50\n",
            "214/214 [==============================] - 3s 14ms/step - loss: 0.9832 - accuracy: 0.5855 - val_loss: 0.9869 - val_accuracy: 0.6149\n",
            "Epoch 15/50\n",
            "214/214 [==============================] - 3s 14ms/step - loss: 0.9791 - accuracy: 0.5849 - val_loss: 0.9750 - val_accuracy: 0.6149\n",
            "Epoch 16/50\n",
            "214/214 [==============================] - 3s 15ms/step - loss: 0.9797 - accuracy: 0.5860 - val_loss: 0.9812 - val_accuracy: 0.6149\n",
            "Epoch 17/50\n",
            "214/214 [==============================] - 4s 18ms/step - loss: 0.9709 - accuracy: 0.5859 - val_loss: 0.9931 - val_accuracy: 0.6149\n",
            "Epoch 18/50\n",
            "214/214 [==============================] - 3s 14ms/step - loss: 0.9558 - accuracy: 0.5858 - val_loss: 0.9879 - val_accuracy: 0.6149\n",
            "Epoch 19/50\n",
            "214/214 [==============================] - 3s 15ms/step - loss: 0.9530 - accuracy: 0.5871 - val_loss: 0.9868 - val_accuracy: 0.6149\n",
            "Epoch 20/50\n",
            "214/214 [==============================] - 3s 16ms/step - loss: 0.9473 - accuracy: 0.5863 - val_loss: 1.0009 - val_accuracy: 0.6149\n"
          ]
        }
      ]
    },
    {
      "cell_type": "code",
      "source": [
        "# Evaluate the model on the validation set\n",
        "val_loss, val_acc = model.evaluate(X_val, y_val)\n",
        "print(\"Validation loss:\", val_loss)\n",
        "print(\"Validation accuracy:\", val_acc)\n"
      ],
      "metadata": {
        "colab": {
          "base_uri": "https://localhost:8080/"
        },
        "id": "2T3V7P_C-NKJ",
        "outputId": "cf63bde3-558d-472d-fd8b-6c1d1604ac49"
      },
      "execution_count": 36,
      "outputs": [
        {
          "output_type": "stream",
          "name": "stdout",
          "text": [
            "54/54 [==============================] - 0s 4ms/step - loss: 0.9750 - accuracy: 0.6149\n",
            "Validation loss: 0.9750270247459412\n",
            "Validation accuracy: 0.614888608455658\n"
          ]
        }
      ]
    }
  ]
}